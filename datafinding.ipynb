{
 "cells": [
  {
   "cell_type": "code",
   "execution_count": 1,
   "metadata": {
    "collapsed": true
   },
   "outputs": [],
   "source": [
    "import pandas as pd\n",
    "import seaborn as sns\n",
    "from scipy import stats\n",
    "import matplotlib.pyplot as plt\n"
   ]
  },
  {
   "cell_type": "code",
   "execution_count": 38,
   "outputs": [],
   "source": [
    "df_javnats = pd.read_csv(\"comparaison/outdated/cl-roadshow.csv\")\n",
    "df_sonar = pd.read_csv(\"comparaison/outdated/coverity-sonar-plugin.csv\")\n",
    "df_javautil = pd.read_csv(\"comparaison/outdated/git-changelog-plugin.csv\")\n",
    "df_jterm = pd.read_csv(\"comparaison/outdated/github-autostatus-plugin.csv\")\n",
    "df_clroad = pd.read_csv(\"comparaison/outdated/GrokkingStreamingSystems.csv\")\n",
    "df_grokking = pd.read_csv(\"comparaison/outdated/Hyperfoil.csv\")\n",
    "df_gitchange = pd.read_csv(\"comparaison/outdated/java-nats.csv\")\n",
    "df_kafka = pd.read_csv(\"comparaison/outdated/java-util.csv\")\n",
    "df_hyperfoil = pd.read_csv(\"comparaison/outdated/JTerm.csv\")\n",
    "df_langx = pd.read_csv(\"comparaison/outdated/kafka-connect-elasticsearch-source.csv\")\n",
    "df_ncwms = pd.read_csv(\"comparaison/outdated/langx-java.csv\")\n",
    "df_sns = pd.read_csv(\"comparaison/outdated/ncwms.csv\")\n",
    "df_autosat = pd.read_csv(\"comparaison/outdated/PetHospital.csv\")\n",
    "df_pet = pd.read_csv(\"comparaison/outdated/sns-itda.csv\")\n",
    "#df_ps = pd.read_csv(\"comparaison/updated/universal-registrar.csv\")\n",
    "\n",
    "final_df = pd.DataFrame()\n",
    "final_df = pd.concat([final_df, df_javnats])\n",
    "final_df = pd.concat([final_df, df_sonar])\n",
    "final_df = pd.concat([final_df, df_javautil])\n",
    "final_df = pd.concat([final_df, df_jterm])\n",
    "final_df = pd.concat([final_df, df_clroad])\n",
    "final_df = pd.concat([final_df, df_grokking])\n",
    "final_df = pd.concat([final_df, df_gitchange])\n",
    "final_df = pd.concat([final_df, df_kafka])\n",
    "final_df = pd.concat([final_df, df_hyperfoil])\n",
    "final_df = pd.concat([final_df, df_langx])\n",
    "final_df = pd.concat([final_df, df_ncwms])\n",
    "final_df = pd.concat([final_df, df_sns])\n",
    "final_df = pd.concat([final_df, df_autosat])\n",
    "final_df = pd.concat([final_df, df_pet])\n",
    "#final_df = pd.concat([final_df, df_ps])\n"
   ],
   "metadata": {
    "collapsed": false
   }
  },
  {
   "cell_type": "code",
   "execution_count": 39,
   "outputs": [],
   "source": [
    "# df\n",
    "current_commit = final_df[final_df[\"CommitSituation\"] == \"latest commit with update\"]\n",
    "last_commit = final_df[final_df[\"CommitSituation\"] == \"last project commit \"]\n",
    "\n",
    "#previous_commit = final_df[final_df[\"CommitSituation\"] == \"Previous commit\"]"
   ],
   "metadata": {
    "collapsed": false
   }
  },
  {
   "cell_type": "code",
   "execution_count": 42,
   "outputs": [
    {
     "name": "stdout",
     "output_type": "stream",
     "text": [
      "9.097733879023759\n",
      "9.580701316621221\n"
     ]
    }
   ],
   "source": [
    "current_commit.shape, last_commit.shape\n",
    "\n",
    "current_CountClassCoupled_mean = current_commit['Cyclomatic'].mean()\n",
    "last_CountClassCoupled_mean = last_commit['Cyclomatic'].mean()\n",
    "\n",
    "print(current_CountClassCoupled_mean)\n",
    "print(last_CountClassCoupled_mean)"
   ],
   "metadata": {
    "collapsed": false
   }
  },
  {
   "cell_type": "code",
   "execution_count": 8,
   "outputs": [],
   "source": [
    "def calculate_column_pvalue(column_name):\n",
    "    current_column_Mean  = current_commit[column_name].mean()\n",
    "    last_column_Mean = last_commit[column_name].mean()\n",
    "\n",
    "    #previous_column_Mean = previous_commit[column_name].mean()\n",
    "\n",
    "    current_column_STD  = current_commit[column_name].std()\n",
    "    last_column_STD = last_commit[column_name].std()\n",
    "\n",
    "    #previous_column_STD = previous_commit[column_name].std()\n",
    "\n",
    "    current_count = current_commit.shape[0]\n",
    "    last_count = last_commit.shape[0]\n",
    "    #previous_count = previous_commit.shape[0]\n",
    "    return stats.ttest_ind_from_stats(current_column_Mean,  current_column_STD,  current_count,\n",
    "                                      last_column_Mean, last_column_STD, last_count).pvalue"
   ],
   "metadata": {
    "collapsed": false
   }
  },
  {
   "cell_type": "code",
   "execution_count": 9,
   "outputs": [
    {
     "data": {
      "text/plain": "0.778316343839693"
     },
     "execution_count": 9,
     "metadata": {},
     "output_type": "execute_result"
    }
   ],
   "source": [
    "calculate_column_pvalue(\"CountClassCoupled\")"
   ],
   "metadata": {
    "collapsed": false
   }
  },
  {
   "cell_type": "code",
   "execution_count": null,
   "outputs": [],
   "source": [],
   "metadata": {
    "collapsed": false
   }
  },
  {
   "cell_type": "code",
   "execution_count": null,
   "outputs": [],
   "source": [
    "\"\"\"\"\n",
    "PercentLackOfCohesion = calculate_column_pvalue(\"PercentLackOfCohesion\")\n",
    "PercentLackOfCohesionModified = calculate_column_pvalue(\"PercentLackOfCohesionModified\")\n",
    "Cyclomatic = calculate_column_pvalue(\"Cyclomatic\")\n",
    "CountLineCode = calculate_column_pvalue(\"CountLineCode\")\n",
    "CountLineComment = calculate_column_pvalue(\"CountLineComment\")\n",
    "#print(CountClassCoupled)\n",
    "print(\"PercentLackOfCohesion : \"+PercentLackOfCohesion)\n",
    "print(\"PercentLackOfCohesionModified : \"+PercentLackOfCohesionModified)\n",
    "print(\"Cyclomatic : \"+Cyclomatic)\n",
    "print(\"CountLineCode : \"+CountLineCode)\n",
    "print(\"CountLineComment : \"+CountLineComment)\n",
    "\"\"\""
   ],
   "metadata": {
    "collapsed": false
   }
  },
  {
   "cell_type": "code",
   "execution_count": 13,
   "outputs": [
    {
     "name": "stderr",
     "output_type": "stream",
     "text": [
      "/var/folders/ky/2zmqxq4d1wzbp690y2kpnfbw0000gn/T/ipykernel_89624/657756210.py:1: FutureWarning: The default value of numeric_only in DataFrame.cov is deprecated. In a future version, it will default to False. Select only valid columns or specify the value of numeric_only to silence this warning.\n",
      "  df_current.cov()\n"
     ]
    },
    {
     "data": {
      "text/plain": "                               CountClassCoupled  PercentLackOfCohesion  \\\nCountClassCoupled                       6.740551               8.512236   \nPercentLackOfCohesion                   8.512236              11.170092   \nPercentLackOfCohesionModified           7.402945               9.633659   \nCyclomatic                              5.568488               7.112334   \nCountLineCode                       -5648.061325           -6833.333190   \nCountLineComment                      852.915006            1214.369778   \n\n                               PercentLackOfCohesionModified   Cyclomatic  \\\nCountClassCoupled                                   7.402945     5.568488   \nPercentLackOfCohesion                               9.633659     7.112334   \nPercentLackOfCohesionModified                       8.324365     6.171134   \nCyclomatic                                          6.171134     4.619244   \nCountLineCode                                   -6002.582609 -4604.105822   \nCountLineComment                                 1025.714871   739.581610   \n\n                               CountLineCode  CountLineComment  \nCountClassCoupled              -5.648061e+03        852.915006  \nPercentLackOfCohesion          -6.833333e+03       1214.369778  \nPercentLackOfCohesionModified  -6.002583e+03       1025.714871  \nCyclomatic                     -4.604106e+03        739.581610  \nCountLineCode                   4.977220e+06    -559426.493994  \nCountLineComment               -5.594265e+05     304820.921922  ",
      "text/html": "<div>\n<style scoped>\n    .dataframe tbody tr th:only-of-type {\n        vertical-align: middle;\n    }\n\n    .dataframe tbody tr th {\n        vertical-align: top;\n    }\n\n    .dataframe thead th {\n        text-align: right;\n    }\n</style>\n<table border=\"1\" class=\"dataframe\">\n  <thead>\n    <tr style=\"text-align: right;\">\n      <th></th>\n      <th>CountClassCoupled</th>\n      <th>PercentLackOfCohesion</th>\n      <th>PercentLackOfCohesionModified</th>\n      <th>Cyclomatic</th>\n      <th>CountLineCode</th>\n      <th>CountLineComment</th>\n    </tr>\n  </thead>\n  <tbody>\n    <tr>\n      <th>CountClassCoupled</th>\n      <td>6.740551</td>\n      <td>8.512236</td>\n      <td>7.402945</td>\n      <td>5.568488</td>\n      <td>-5.648061e+03</td>\n      <td>852.915006</td>\n    </tr>\n    <tr>\n      <th>PercentLackOfCohesion</th>\n      <td>8.512236</td>\n      <td>11.170092</td>\n      <td>9.633659</td>\n      <td>7.112334</td>\n      <td>-6.833333e+03</td>\n      <td>1214.369778</td>\n    </tr>\n    <tr>\n      <th>PercentLackOfCohesionModified</th>\n      <td>7.402945</td>\n      <td>9.633659</td>\n      <td>8.324365</td>\n      <td>6.171134</td>\n      <td>-6.002583e+03</td>\n      <td>1025.714871</td>\n    </tr>\n    <tr>\n      <th>Cyclomatic</th>\n      <td>5.568488</td>\n      <td>7.112334</td>\n      <td>6.171134</td>\n      <td>4.619244</td>\n      <td>-4.604106e+03</td>\n      <td>739.581610</td>\n    </tr>\n    <tr>\n      <th>CountLineCode</th>\n      <td>-5648.061325</td>\n      <td>-6833.333190</td>\n      <td>-6002.582609</td>\n      <td>-4604.105822</td>\n      <td>4.977220e+06</td>\n      <td>-559426.493994</td>\n    </tr>\n    <tr>\n      <th>CountLineComment</th>\n      <td>852.915006</td>\n      <td>1214.369778</td>\n      <td>1025.714871</td>\n      <td>739.581610</td>\n      <td>-5.594265e+05</td>\n      <td>304820.921922</td>\n    </tr>\n  </tbody>\n</table>\n</div>"
     },
     "execution_count": 13,
     "metadata": {},
     "output_type": "execute_result"
    }
   ],
   "source": [
    "df_current.cov()"
   ],
   "metadata": {
    "collapsed": false
   }
  },
  {
   "cell_type": "code",
   "execution_count": 14,
   "outputs": [
    {
     "name": "stdout",
     "output_type": "stream",
     "text": [
      "37\n"
     ]
    }
   ],
   "source": [
    "count = df_current.shape[0]\n",
    "print(count)"
   ],
   "metadata": {
    "collapsed": false
   }
  },
  {
   "cell_type": "code",
   "execution_count": 33,
   "outputs": [
    {
     "data": {
      "text/plain": "<AxesSubplot: title={'center': 'CountClassCoupled'}, xlabel='CommitSituation'>"
     },
     "execution_count": 33,
     "metadata": {},
     "output_type": "execute_result"
    },
    {
     "data": {
      "text/plain": "<Figure size 640x480 with 1 Axes>",
      "image/png": "[encoded data removed]"
     },
     "metadata": {},
     "output_type": "display_data"
    }
   ],
   "source": [
    "final_df.boxplot(by ='CommitSituation', column =['CountClassCoupled'],showmeans=True, grid = True)\n"
   ],
   "metadata": {
    "collapsed": false
   }
  }
 ],
 "metadata": {
  "kernelspec": {
   "display_name": "Python 3",
   "language": "python",
   "name": "python3"
  },
  "language_info": {
   "codemirror_mode": {
    "name": "ipython",
    "version": 2
   },
   "file_extension": ".py",
   "mimetype": "text/x-python",
   "name": "python",
   "nbconvert_exporter": "python",
   "pygments_lexer": "ipython2",
   "version": "2.7.6"
  }
 },
 "nbformat": 4,
 "nbformat_minor": 0
}
